{
 "cells": [
  {
   "cell_type": "markdown",
   "metadata": {},
   "source": [
    "# Count the three most label for 500000 customers "
   ]
  },
  {
   "cell_type": "markdown",
   "metadata": {},
   "source": [
    "## Import packages"
   ]
  },
  {
   "cell_type": "code",
   "execution_count": null,
   "metadata": {},
   "outputs": [],
   "source": [
    "# For data preprocess\n",
    "import numpy as np\n",
    "import csv\n",
    "import math\n",
    "import pandas as pd"
   ]
  },
  {
   "cell_type": "markdown",
   "metadata": {},
   "source": [
    "## Count the three most labels of every customer"
   ]
  },
  {
   "cell_type": "code",
   "execution_count": null,
   "metadata": {},
   "outputs": [],
   "source": [
    "data = np.zeros((500000,16))\n",
    "shopping_type = [2,6,10,12,13,15,18,19,21,22,25,26,36,37,39,48]\n",
    "for j in range(15):\n",
    "    print('begin ' + str(j) + ' iterations')\n",
    "    num = 314 + j\n",
    "    data_csv = './Tbrain_splitData/tbrain_cc_SplitTraining_data_part' + str(num) +'.csv'\n",
    "    df = pd.read_csv(data_csv)\n",
    "    for i in range(100000):\n",
    "        for k in range(16):\n",
    "            if(df['shop_tag'][i] != 'other'):\n",
    "                if(int(df['shop_tag'][i]) == shopping_type[k]):\n",
    "                    data[df['chid'][i] - 10000000][k] = data[df['chid'][i] - 10000000][k] + df['txn_amt'][i]\n",
    "    print('finish ' + str(j) + ' iterations')"
   ]
  },
  {
   "cell_type": "markdown",
   "metadata": {},
   "source": [
    "## Get three most index of every customer"
   ]
  },
  {
   "cell_type": "code",
   "execution_count": null,
   "metadata": {},
   "outputs": [],
   "source": [
    "customer_id = np.zeros((500000,1))\n",
    "for i in range(500000):\n",
    "    customer_id[i] = 10000000 + i"
   ]
  },
  {
   "cell_type": "code",
   "execution_count": null,
   "metadata": {},
   "outputs": [],
   "source": [
    "most = np.zeros((500000,3))\n",
    "for i in range(500000):\n",
    "    for j in range(3):\n",
    "        most[i][j] = -1\n",
    "data_sort = np.argsort(data)    \n",
    "for i in range(500000):\n",
    "    for j in range(3):\n",
    "        if(data[i][data_sort[i][-1*j-1]]!=0):\n",
    "            most[i][j] = shopping_type[data_sort[i][-1*j-1]]"
   ]
  },
  {
   "cell_type": "code",
   "execution_count": null,
   "metadata": {},
   "outputs": [],
   "source": [
    "total = np.concatenate((customer_id, most), axis=1)"
   ]
  },
  {
   "cell_type": "markdown",
   "metadata": {},
   "source": [
    "## Output file"
   ]
  },
  {
   "cell_type": "code",
   "execution_count": null,
   "metadata": {},
   "outputs": [],
   "source": [
    "most_df=pd.DataFrame(total, columns = [\"chid\", \"top1\", \"top2\", \"top3\"])\n",
    "most_df_str = most_df.astype({'chid':'int32', 'top1':'int32', 'top2':'int32', 'top3':'int32'})\n",
    "most_df_str.to_csv(\"./data/all_record.csv\", index=False)"
   ]
  }
 ],
 "metadata": {
  "kernelspec": {
   "display_name": "Python 3",
   "language": "python",
   "name": "python3"
  },
  "language_info": {
   "codemirror_mode": {
    "name": "ipython",
    "version": 3
   },
   "file_extension": ".py",
   "mimetype": "text/x-python",
   "name": "python",
   "nbconvert_exporter": "python",
   "pygments_lexer": "ipython3",
   "version": "3.8.5"
  }
 },
 "nbformat": 4,
 "nbformat_minor": 4
}
