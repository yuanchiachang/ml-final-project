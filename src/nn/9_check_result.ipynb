{
 "cells": [
  {
   "cell_type": "markdown",
   "metadata": {},
   "source": [
    "# Check the format of predicted result"
   ]
  },
  {
   "cell_type": "code",
   "execution_count": null,
   "metadata": {},
   "outputs": [],
   "source": [
    "import os\n",
    "import csv\n",
    "import numpy as np\n",
    "import pandas as pd"
   ]
  },
  {
   "cell_type": "markdown",
   "metadata": {},
   "source": [
    "## Read Data"
   ]
  },
  {
   "cell_type": "code",
   "execution_count": null,
   "metadata": {},
   "outputs": [],
   "source": [
    "df = pd.read_csv(\"./result/result.csv\")"
   ]
  },
  {
   "cell_type": "code",
   "execution_count": null,
   "metadata": {},
   "outputs": [],
   "source": [
    "train_chid = df['chid'];\n",
    "train_top1 = df['top1'];\n",
    "train_top2 = df['top2'];\n",
    "train_top3 = df['top3'];"
   ]
  },
  {
   "cell_type": "markdown",
   "metadata": {},
   "source": [
    "## To verify that top 3 label are different"
   ]
  },
  {
   "cell_type": "code",
   "execution_count": null,
   "metadata": {},
   "outputs": [],
   "source": [
    "passSignal = True\n",
    "for i in range (500000):\n",
    "    if(train_top1[i] == train_top2[i]):\n",
    "        passSignal = False;\n",
    "        print(\"something wrong! \", i, \"th data\")\n",
    "        print(train_chid[i])\n",
    "    if(train_top1[i] == train_top3[i]):\n",
    "        passSignal = False;\n",
    "        print(\"something wrong! \", i, \"th data\")\n",
    "        print(train_chid[i])\n",
    "    if(train_top2[i] == train_top3[i]):\n",
    "        passSignal = False;\n",
    "        print(\"something wrong! \", i, \"th data\")\n",
    "        print(train_chid[i])\n",
    "if(passSignal):\n",
    "    print(\"Congratulation! Top 3 label are totally different\")"
   ]
  },
  {
   "cell_type": "markdown",
   "metadata": {},
   "source": [
    "## To verify that every label is in the predicted label list"
   ]
  },
  {
   "cell_type": "code",
   "execution_count": null,
   "metadata": {},
   "outputs": [],
   "source": [
    "passSignal = True\n",
    "label = [2,6,10,12,13,15,18,19,21,22,25,26,36,37,39,48]\n",
    "for i in range (500000):\n",
    "    if(not i%100000):\n",
    "        print(\"begin \",i,\" turns\")\n",
    "    sameSignal = False;\n",
    "    for j in range(16):\n",
    "        if(train_top1[i] == label[j]):\n",
    "            sameSignal = True;\n",
    "    if(not sameSignal):\n",
    "        print(\"something wrong! \", i, \"th data\")\n",
    "        passSignal = False;\n",
    "    \n",
    "    sameSignal = False;\n",
    "    for j in range(16):\n",
    "        if(train_top2[i] == label[j]):\n",
    "            sameSignal = True;\n",
    "    if(not sameSignal):\n",
    "        print(\"something wrong! \", i, \"th data\")\n",
    "        passSignal = False;\n",
    "    \n",
    "    sameSignal = False;\n",
    "    for j in range(16):\n",
    "        if(train_top3[i] == label[j]):\n",
    "            sameSignal = True;\n",
    "    if(not sameSignal):\n",
    "        print(\"something wrong! \", i, \"th data\")\n",
    "        passSignal = False;\n",
    "if(passSignal):\n",
    "    print(\"Congratulation! Every label is in the predicted label list.\")"
   ]
  },
  {
   "cell_type": "markdown",
   "metadata": {},
   "source": [
    "## To check the type of data\n",
    "### chid: int64\n",
    "### top1: int64\n",
    "### top2: int64\n",
    "### top3: int64\n",
    "### dtype: object"
   ]
  },
  {
   "cell_type": "code",
   "execution_count": null,
   "metadata": {},
   "outputs": [],
   "source": [
    "print(df.dtypes)"
   ]
  }
 ],
 "metadata": {
  "kernelspec": {
   "display_name": "Python 3",
   "language": "python",
   "name": "python3"
  },
  "language_info": {
   "codemirror_mode": {
    "name": "ipython",
    "version": 3
   },
   "file_extension": ".py",
   "mimetype": "text/x-python",
   "name": "python",
   "nbconvert_exporter": "python",
   "pygments_lexer": "ipython3",
   "version": "3.8.5"
  }
 },
 "nbformat": 4,
 "nbformat_minor": 4
}
