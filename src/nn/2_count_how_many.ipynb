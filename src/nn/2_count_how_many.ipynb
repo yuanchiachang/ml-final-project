{
 "cells": [
  {
   "cell_type": "markdown",
   "metadata": {},
   "source": [
    "# To count top 3 most category in last two month"
   ]
  },
  {
   "cell_type": "markdown",
   "metadata": {},
   "source": [
    "## Import packages"
   ]
  },
  {
   "cell_type": "code",
   "execution_count": null,
   "metadata": {},
   "outputs": [],
   "source": [
    "import numpy as np\n",
    "import pandas as pd \n",
    "import os"
   ]
  },
  {
   "cell_type": "markdown",
   "metadata": {},
   "source": [
    "## Main function"
   ]
  },
  {
   "cell_type": "code",
   "execution_count": null,
   "metadata": {
    "scrolled": true
   },
   "outputs": [],
   "source": [
    "if __name__ == '__main__':\n",
    "    count = np.zeros(49);\n",
    "    for i in range(20):\n",
    "        filePath = \"./Tbrain_splitData/tbrain_cc_SplitTraining_data_part\" + str(310+i) + \".csv\"\n",
    "        print(filePath)\n",
    "        df = pd.read_csv(\"./Tbrain_splitData/tbrain_cc_SplitTraining_data_part\" + str(i) + \".csv\")\n",
    "        data = df.values.tolist() #整個轉為list\n",
    "        for j in range(len(data)):\n",
    "            if(data[j][3]!= 'other'):\n",
    "                count[int(data[j][3])] = count[int(data[j][3])] + 1\n",
    "    print(count)"
   ]
  },
  {
   "cell_type": "code",
   "execution_count": null,
   "metadata": {},
   "outputs": [],
   "source": [
    "category = [2, 6, 10, 12, 13, 15, 18, 19, 21, 22, 25, 26, 36, 37, 39, 48]"
   ]
  },
  {
   "cell_type": "markdown",
   "metadata": {},
   "source": [
    "## Get the most three index category"
   ]
  },
  {
   "cell_type": "code",
   "execution_count": null,
   "metadata": {},
   "outputs": [],
   "source": [
    "sort = np.argsort(count).tolist()\n",
    "for itr in sort:\n",
    "    in_category = False\n",
    "    for j in category:\n",
    "        if (itr == j):\n",
    "            in_category = True\n",
    "    if(not in_category):\n",
    "        sort.remove(itr)"
   ]
  },
  {
   "cell_type": "code",
   "execution_count": null,
   "metadata": {},
   "outputs": [],
   "source": [
    "test_data = np.zeros((500000,4))\n",
    "for i in range(500000):\n",
    "    test_data[i][0] = 10000000 + i\n",
    "    test_data[i][1] = sort[-1]\n",
    "    test_data[i][2] = sort[-2]\n",
    "    test_data[i][3] = sort[-3]\n",
    "print(test_data)"
   ]
  },
  {
   "cell_type": "markdown",
   "metadata": {},
   "source": [
    "## Output file"
   ]
  },
  {
   "cell_type": "code",
   "execution_count": null,
   "metadata": {},
   "outputs": [],
   "source": [
    "most_df=pd.DataFrame(test_data, columns = [\"chid\", \"top1\", \"top2\", \"top3\"])\n",
    "most_df_str = most_df.astype({'chid':'int32', 'top1':'int32', 'top2':'int32', 'top3':'int32'})\n",
    "most_df_str.to_csv(\"./result/test_data.csv\", index=False)"
   ]
  }
 ],
 "metadata": {
  "kernelspec": {
   "display_name": "Python 3",
   "language": "python",
   "name": "python3"
  },
  "language_info": {
   "codemirror_mode": {
    "name": "ipython",
    "version": 3
   },
   "file_extension": ".py",
   "mimetype": "text/x-python",
   "name": "python",
   "nbconvert_exporter": "python",
   "pygments_lexer": "ipython3",
   "version": "3.8.5"
  }
 },
 "nbformat": 4,
 "nbformat_minor": 4
}
