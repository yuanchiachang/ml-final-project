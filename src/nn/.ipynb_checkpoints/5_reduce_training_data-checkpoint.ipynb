{
 "cells": [
  {
   "cell_type": "markdown",
   "metadata": {},
   "source": [
    "# Reduce the training data to 9 columns"
   ]
  },
  {
   "cell_type": "markdown",
   "metadata": {},
   "source": [
    "## Import packages"
   ]
  },
  {
   "cell_type": "code",
   "execution_count": null,
   "metadata": {},
   "outputs": [],
   "source": [
    "# For data preprocess\n",
    "import numpy as np\n",
    "import csv\n",
    "import math\n",
    "import pandas as pd"
   ]
  },
  {
   "cell_type": "markdown",
   "metadata": {},
   "source": [
    "## Main Function"
   ]
  },
  {
   "cell_type": "code",
   "execution_count": null,
   "metadata": {},
   "outputs": [],
   "source": [
    "data = np.zeros((500000,9))\n",
    "for j in range(15):\n",
    "    print('begin ' + str(j) + ' iterations')\n",
    "    num = 314 + j\n",
    "    data_csv = './Tbrain_splitData/tbrain_cc_SplitTraining_data_part' + str(num) +'.csv'\n",
    "    df = pd.read_csv(data_csv)\n",
    "    for i in range(100000):\n",
    "        data[df['chid'][i] - 10000000][0] = df['masts'][i]\n",
    "        data[df['chid'][i] - 10000000][1] = df['educd'][i]\n",
    "        data[df['chid'][i] - 10000000][2] = df['trdtp'][i]\n",
    "        data[df['chid'][i] - 10000000][3] = df['naty'][i]\n",
    "        data[df['chid'][i] - 10000000][4] = df['poscd'][i]\n",
    "        data[df['chid'][i] - 10000000][5] = df['cuorg'][i]\n",
    "        data[df['chid'][i] - 10000000][6] = df['slam'][i]\n",
    "        data[df['chid'][i] - 10000000][7] = df['gender_code'][i]\n",
    "        data[df['chid'][i] - 10000000][8] = df['age'][i]\n",
    "    print('finish ' + str(j) + ' iterations')"
   ]
  },
  {
   "cell_type": "markdown",
   "metadata": {},
   "source": [
    "## Save file"
   ]
  },
  {
   "cell_type": "code",
   "execution_count": null,
   "metadata": {},
   "outputs": [],
   "source": [
    "customer_id = np.zeros((500000,1))\n",
    "for i in range(500000):\n",
    "    customer_id[i] = 10000000 + i\n",
    "total = np.concatenate((customer_id, data), axis=1)\n"
   ]
  },
  {
   "cell_type": "code",
   "execution_count": null,
   "metadata": {},
   "outputs": [],
   "source": [
    "total_df=pd.DataFrame(total, columns = [\"chid\", \"masts\", \"educd\", \"trdtp\", \"naty\", \"poscd\", \"cuorg\", \"slam\", \"gender_code\",\"age\"])\n"
   ]
  },
  {
   "cell_type": "code",
   "execution_count": null,
   "metadata": {},
   "outputs": [],
   "source": [
    "total_df=pd.DataFrame(total, columns = [\"chid\", \"masts\", \"educd\", \"trdtp\", \"naty\", \"poscd\", \"cuorg\", \"slam\", \"gender_code\",\"age\"])\n",
    "for i in range(len(total_df)):\n",
    "    if(total_df[\"slam\"][i] > 1000000):\n",
    "        total_df[\"slam\"][i] = 1000000\n",
    "total_df=total_df.fillna(total_df.mean())\n",
    "total_df.to_csv(\"./data/reduced_train.csv\", index=False)"
   ]
  }
 ],
 "metadata": {
  "kernelspec": {
   "display_name": "Python 3",
   "language": "python",
   "name": "python3"
  },
  "language_info": {
   "codemirror_mode": {
    "name": "ipython",
    "version": 3
   },
   "file_extension": ".py",
   "mimetype": "text/x-python",
   "name": "python",
   "nbconvert_exporter": "python",
   "pygments_lexer": "ipython3",
   "version": "3.8.5"
  }
 },
 "nbformat": 4,
 "nbformat_minor": 4
}
