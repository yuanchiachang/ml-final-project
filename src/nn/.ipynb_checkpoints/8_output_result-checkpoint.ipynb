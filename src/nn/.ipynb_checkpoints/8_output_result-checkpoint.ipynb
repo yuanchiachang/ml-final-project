{
 "cells": [
  {
   "cell_type": "markdown",
   "metadata": {},
   "source": [
    "# Output result"
   ]
  },
  {
   "cell_type": "markdown",
   "metadata": {},
   "source": [
    "## Import packages"
   ]
  },
  {
   "cell_type": "code",
   "execution_count": null,
   "metadata": {},
   "outputs": [],
   "source": [
    "# For data preprocess\n",
    "import numpy as np\n",
    "import csv\n",
    "import math\n",
    "import pandas as pd"
   ]
  },
  {
   "cell_type": "markdown",
   "metadata": {},
   "source": [
    "## Combine different csv file to generate total csv file "
   ]
  },
  {
   "cell_type": "code",
   "execution_count": null,
   "metadata": {},
   "outputs": [],
   "source": [
    "data = np.zeros((500000,3))\n",
    "df = pd.read_csv('./data/empty_record.csv')\n",
    "for i in range(len(df)):\n",
    "    data[int(df['chid'][i])-10000000][0] = 37\n",
    "    data[int(df['chid'][i])-10000000][1] = 15\n",
    "    data[int(df['chid'][i])-10000000][2] = 2\n",
    "df = pd.read_csv('./data/full_record.csv')\n",
    "for i in range(len(df)):\n",
    "    data[int(df['chid'][i])-10000000][0] = df['top1'][i]\n",
    "    data[int(df['chid'][i])-10000000][1] = df['top2'][i]\n",
    "    data[int(df['chid'][i])-10000000][2] = df['top3'][i]\n",
    "df = pd.read_csv('./data/predict_not_full.csv')\n",
    "for i in range(len(df)):\n",
    "    data[int(df['chid'][i])-10000000][0] = df['top1'][i]\n",
    "    data[int(df['chid'][i])-10000000][1] = df['top2'][i]\n",
    "    data[int(df['chid'][i])-10000000][2] = df['top3'][i]"
   ]
  },
  {
   "cell_type": "markdown",
   "metadata": {},
   "source": [
    "## Output file"
   ]
  },
  {
   "cell_type": "code",
   "execution_count": null,
   "metadata": {},
   "outputs": [],
   "source": [
    "with open('./result/result.csv', 'w', newline='') as csvfile:\n",
    "    writer = csv.writer(csvfile)\n",
    "    writer.writerow(['chid', 'top1','top2','top3'])\n",
    "    for i in range(len(data)):\n",
    "        writer.writerow([str(i + 10000000), str(int(data[i][0])),str(int(data[i][1])),str(int(data[i][2]))])"
   ]
  }
 ],
 "metadata": {
  "kernelspec": {
   "display_name": "Python 3",
   "language": "python",
   "name": "python3"
  },
  "language_info": {
   "codemirror_mode": {
    "name": "ipython",
    "version": 3
   },
   "file_extension": ".py",
   "mimetype": "text/x-python",
   "name": "python",
   "nbconvert_exporter": "python",
   "pygments_lexer": "ipython3",
   "version": "3.8.5"
  }
 },
 "nbformat": 4,
 "nbformat_minor": 4
}
